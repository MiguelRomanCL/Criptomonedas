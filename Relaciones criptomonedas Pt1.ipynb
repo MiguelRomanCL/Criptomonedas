{
 "cells": [
  {
   "cell_type": "code",
   "execution_count": 1,
   "id": "2263dce7",
   "metadata": {},
   "outputs": [],
   "source": [
    "# Data Science Tools.\n",
    "import numpy as np\n",
    "import pandas as pd\n",
    "\n",
    "# Obtención del data mediante la API de Yahoo Finance.\n",
    "import yfinance as yf\n",
    "\n",
    "# Visualización de datos.\n",
    "import plotly.graph_objs as go"
   ]
  },
  {
   "cell_type": "markdown",
   "id": "07b73aaa",
   "metadata": {},
   "source": [
    "# Introducción"
   ]
  },
  {
   "cell_type": "markdown",
   "id": "efe82842",
   "metadata": {},
   "source": [
    "Vamos a utilizar el método **download** de la librería de **yahoo finance**. Este método nos entrega un DataFrame con **los valores de una acción específica**, en un periodo de tiempo determinado. Aquí se incluyen los valores máximo, mínimo, apertura y cierre en un periodo determinado.\n",
    "\n",
    "Este método requiere tres argumentos: tickers, period, interval.\n",
    "\n",
    "- <u>tickers</u>: Es un string que sirve para identificar de forma abreviada las acciones de una determinada empresa.\n",
    "\n",
    "- <u>period</u>: Se entrega en forma de string, es el periodo de tiempo en el que se considerará el Data. \n",
    "\n",
    "- <u>interval</u>: Se entrega en forma de string.\n",
    "\n",
    "#### Por ejemplo:\n",
    "\n",
    "> yf.download(tickers='BTC-USD', period = '3mo', interval = '1h')\n",
    "\n",
    "Representa un DataFrame, donde cada fila, representa los valores de Bitcoin en USD (de cierre,apertura,mínimo y máximo) para un intervalo determinado.\n",
    "\n",
    "para el valor de BTC en USD, considerado en un periodo de 3 meses dividido en intervalos de 1 hora.\n",
    "\n",
    "Para mayor información visitar la documentación oficial: https://pypi.org/project/yfinance/"
   ]
  },
  {
   "cell_type": "markdown",
   "id": "d5fe5726",
   "metadata": {},
   "source": [
    "# Vamos a estudiar el comportamiento de los valores de Bitcoin, Ether y ADA a tráves del tiempo.\n",
    "Empecemos por definir nuestro periodo e intervalo."
   ]
  },
  {
   "cell_type": "code",
   "execution_count": 2,
   "id": "6b68df11",
   "metadata": {},
   "outputs": [],
   "source": [
    "# Estos valores se pueden cambiar\n",
    "periodo='4y'\n",
    "intervalo='1d'"
   ]
  },
  {
   "cell_type": "markdown",
   "id": "0460778f",
   "metadata": {},
   "source": [
    "Luego creamos los DataFrames para las tres criptomonedas mencionadas. Los valores de los tickers para cada respectiva moneda, pueden encontrarse en la página https://finance.yahoo.com. "
   ]
  },
  {
   "cell_type": "code",
   "execution_count": 4,
   "id": "88235d9f",
   "metadata": {
    "scrolled": true
   },
   "outputs": [
    {
     "name": "stdout",
     "output_type": "stream",
     "text": [
      "[*********************100%***********************]  1 of 1 completed\n",
      "[*********************100%***********************]  1 of 1 completed\n",
      "[*********************100%***********************]  1 of 1 completed\n"
     ]
    }
   ],
   "source": [
    "BTC= yf.download(tickers='BTC-USD', period = periodo, interval = intervalo)\n",
    "ETH= yf.download(tickers='ETH-USD', period = periodo, interval = intervalo)\n",
    "ADA = yf.download(tickers='ADA-USD', period = periodo, interval = intervalo)"
   ]
  },
  {
   "cell_type": "code",
   "execution_count": 5,
   "id": "7538fc2e",
   "metadata": {},
   "outputs": [
    {
     "data": {
      "text/html": [
       "<div>\n",
       "<style scoped>\n",
       "    .dataframe tbody tr th:only-of-type {\n",
       "        vertical-align: middle;\n",
       "    }\n",
       "\n",
       "    .dataframe tbody tr th {\n",
       "        vertical-align: top;\n",
       "    }\n",
       "\n",
       "    .dataframe thead th {\n",
       "        text-align: right;\n",
       "    }\n",
       "</style>\n",
       "<table border=\"1\" class=\"dataframe\">\n",
       "  <thead>\n",
       "    <tr style=\"text-align: right;\">\n",
       "      <th></th>\n",
       "      <th>Open</th>\n",
       "      <th>High</th>\n",
       "      <th>Low</th>\n",
       "      <th>Close</th>\n",
       "      <th>Adj Close</th>\n",
       "      <th>Volume</th>\n",
       "    </tr>\n",
       "    <tr>\n",
       "      <th>Date</th>\n",
       "      <th></th>\n",
       "      <th></th>\n",
       "      <th></th>\n",
       "      <th></th>\n",
       "      <th></th>\n",
       "      <th></th>\n",
       "    </tr>\n",
       "  </thead>\n",
       "  <tbody>\n",
       "    <tr>\n",
       "      <th>2017-11-23</th>\n",
       "      <td>8232.379883</td>\n",
       "      <td>8267.400391</td>\n",
       "      <td>8038.770020</td>\n",
       "      <td>8038.770020</td>\n",
       "      <td>8038.770020</td>\n",
       "      <td>4225179904</td>\n",
       "    </tr>\n",
       "    <tr>\n",
       "      <th>2017-11-24</th>\n",
       "      <td>8074.020020</td>\n",
       "      <td>8374.160156</td>\n",
       "      <td>7940.930176</td>\n",
       "      <td>8253.690430</td>\n",
       "      <td>8253.690430</td>\n",
       "      <td>5058610176</td>\n",
       "    </tr>\n",
       "    <tr>\n",
       "      <th>2017-11-25</th>\n",
       "      <td>8241.709961</td>\n",
       "      <td>8790.919922</td>\n",
       "      <td>8191.149902</td>\n",
       "      <td>8790.919922</td>\n",
       "      <td>8790.919922</td>\n",
       "      <td>4342060032</td>\n",
       "    </tr>\n",
       "    <tr>\n",
       "      <th>2017-11-26</th>\n",
       "      <td>8789.040039</td>\n",
       "      <td>9522.929688</td>\n",
       "      <td>8775.589844</td>\n",
       "      <td>9330.549805</td>\n",
       "      <td>9330.549805</td>\n",
       "      <td>5475579904</td>\n",
       "    </tr>\n",
       "    <tr>\n",
       "      <th>2017-11-27</th>\n",
       "      <td>9352.719727</td>\n",
       "      <td>9818.349609</td>\n",
       "      <td>9352.719727</td>\n",
       "      <td>9818.349609</td>\n",
       "      <td>9818.349609</td>\n",
       "      <td>5653320192</td>\n",
       "    </tr>\n",
       "  </tbody>\n",
       "</table>\n",
       "</div>"
      ],
      "text/plain": [
       "                   Open         High          Low        Close    Adj Close  \\\n",
       "Date                                                                          \n",
       "2017-11-23  8232.379883  8267.400391  8038.770020  8038.770020  8038.770020   \n",
       "2017-11-24  8074.020020  8374.160156  7940.930176  8253.690430  8253.690430   \n",
       "2017-11-25  8241.709961  8790.919922  8191.149902  8790.919922  8790.919922   \n",
       "2017-11-26  8789.040039  9522.929688  8775.589844  9330.549805  9330.549805   \n",
       "2017-11-27  9352.719727  9818.349609  9352.719727  9818.349609  9818.349609   \n",
       "\n",
       "                Volume  \n",
       "Date                    \n",
       "2017-11-23  4225179904  \n",
       "2017-11-24  5058610176  \n",
       "2017-11-25  4342060032  \n",
       "2017-11-26  5475579904  \n",
       "2017-11-27  5653320192  "
      ]
     },
     "execution_count": 5,
     "metadata": {},
     "output_type": "execute_result"
    }
   ],
   "source": [
    "# Vamos a revisar el head de uno de nuestros DataFrame.\n",
    "BTC.head()"
   ]
  },
  {
   "cell_type": "markdown",
   "id": "9f68191c",
   "metadata": {},
   "source": [
    "#### Notemos que la columna 'Close' tiene los mismos valores que 'Adj Close'. Vamos a ver si es que esto ocurre con el resto de filas."
   ]
  },
  {
   "cell_type": "code",
   "execution_count": 8,
   "id": "382378ed",
   "metadata": {},
   "outputs": [
    {
     "name": "stdout",
     "output_type": "stream",
     "text": [
      "0\n",
      "0\n",
      "0\n"
     ]
    }
   ],
   "source": [
    "# Para hacerlo, revisamos para cada DataFrame, la cantidad de filas en donde estas columnas son distintas\n",
    "print(len(BTC[BTC['Close'] != BTC['Adj Close']]))\n",
    "print(len(ETH[ETH['Close'] != ETH['Adj Close']]))\n",
    "print(len(ADA[ADA['Close'] != ADA['Adj Close']]))"
   ]
  },
  {
   "cell_type": "markdown",
   "id": "68700921",
   "metadata": {},
   "source": [
    "#### Esto nos dice que ambas columnas son iguales para nuestros tres DataFrame, es por esto que vamos a eliminar la columna 'Adj Close' en cada una de ellas."
   ]
  },
  {
   "cell_type": "code",
   "execution_count": 9,
   "id": "e0710497",
   "metadata": {},
   "outputs": [],
   "source": [
    "BTC.drop('Adj Close',axis=1,inplace=True)\n",
    "ETH.drop('Adj Close',axis=1,inplace=True)\n",
    "ADA.drop('Adj Close',axis=1,inplace=True)"
   ]
  },
  {
   "cell_type": "markdown",
   "id": "fac5740d",
   "metadata": {},
   "source": [
    "#### Ahora vamos a concatenar nuestros Dataframes con el fin de organizar nuestra información. "
   ]
  },
  {
   "cell_type": "code",
   "execution_count": 10,
   "id": "28f55709",
   "metadata": {
    "scrolled": false
   },
   "outputs": [
    {
     "data": {
      "text/html": [
       "<div>\n",
       "<style scoped>\n",
       "    .dataframe tbody tr th:only-of-type {\n",
       "        vertical-align: middle;\n",
       "    }\n",
       "\n",
       "    .dataframe tbody tr th {\n",
       "        vertical-align: top;\n",
       "    }\n",
       "\n",
       "    .dataframe thead tr th {\n",
       "        text-align: left;\n",
       "    }\n",
       "\n",
       "    .dataframe thead tr:last-of-type th {\n",
       "        text-align: right;\n",
       "    }\n",
       "</style>\n",
       "<table border=\"1\" class=\"dataframe\">\n",
       "  <thead>\n",
       "    <tr>\n",
       "      <th>Criptomoneda</th>\n",
       "      <th colspan=\"5\" halign=\"left\">BTC</th>\n",
       "      <th colspan=\"5\" halign=\"left\">ETH</th>\n",
       "      <th colspan=\"5\" halign=\"left\">ADA</th>\n",
       "    </tr>\n",
       "    <tr>\n",
       "      <th>Valor</th>\n",
       "      <th>Open</th>\n",
       "      <th>High</th>\n",
       "      <th>Low</th>\n",
       "      <th>Close</th>\n",
       "      <th>Volume</th>\n",
       "      <th>Open</th>\n",
       "      <th>High</th>\n",
       "      <th>Low</th>\n",
       "      <th>Close</th>\n",
       "      <th>Volume</th>\n",
       "      <th>Open</th>\n",
       "      <th>High</th>\n",
       "      <th>Low</th>\n",
       "      <th>Close</th>\n",
       "      <th>Volume</th>\n",
       "    </tr>\n",
       "    <tr>\n",
       "      <th>Date</th>\n",
       "      <th></th>\n",
       "      <th></th>\n",
       "      <th></th>\n",
       "      <th></th>\n",
       "      <th></th>\n",
       "      <th></th>\n",
       "      <th></th>\n",
       "      <th></th>\n",
       "      <th></th>\n",
       "      <th></th>\n",
       "      <th></th>\n",
       "      <th></th>\n",
       "      <th></th>\n",
       "      <th></th>\n",
       "      <th></th>\n",
       "    </tr>\n",
       "  </thead>\n",
       "  <tbody>\n",
       "    <tr>\n",
       "      <th>2017-11-23</th>\n",
       "      <td>8232.379883</td>\n",
       "      <td>8267.400391</td>\n",
       "      <td>8038.770020</td>\n",
       "      <td>8038.770020</td>\n",
       "      <td>4225179904</td>\n",
       "      <td>381.438995</td>\n",
       "      <td>425.548004</td>\n",
       "      <td>376.088013</td>\n",
       "      <td>410.165985</td>\n",
       "      <td>1845680000</td>\n",
       "      <td>0.028540</td>\n",
       "      <td>0.028678</td>\n",
       "      <td>0.027444</td>\n",
       "      <td>0.027444</td>\n",
       "      <td>5132300</td>\n",
       "    </tr>\n",
       "    <tr>\n",
       "      <th>2017-11-24</th>\n",
       "      <td>8074.020020</td>\n",
       "      <td>8374.160156</td>\n",
       "      <td>7940.930176</td>\n",
       "      <td>8253.690430</td>\n",
       "      <td>5058610176</td>\n",
       "      <td>412.501007</td>\n",
       "      <td>480.972992</td>\n",
       "      <td>402.757996</td>\n",
       "      <td>474.911011</td>\n",
       "      <td>2292829952</td>\n",
       "      <td>0.027406</td>\n",
       "      <td>0.028597</td>\n",
       "      <td>0.026963</td>\n",
       "      <td>0.028382</td>\n",
       "      <td>5502350</td>\n",
       "    </tr>\n",
       "    <tr>\n",
       "      <th>2017-11-25</th>\n",
       "      <td>8241.709961</td>\n",
       "      <td>8790.919922</td>\n",
       "      <td>8191.149902</td>\n",
       "      <td>8790.919922</td>\n",
       "      <td>4342060032</td>\n",
       "      <td>475.675995</td>\n",
       "      <td>485.191986</td>\n",
       "      <td>461.053009</td>\n",
       "      <td>466.276001</td>\n",
       "      <td>1422080000</td>\n",
       "      <td>0.028324</td>\n",
       "      <td>0.030447</td>\n",
       "      <td>0.027747</td>\n",
       "      <td>0.030447</td>\n",
       "      <td>6156460</td>\n",
       "    </tr>\n",
       "    <tr>\n",
       "      <th>2017-11-26</th>\n",
       "      <td>8789.040039</td>\n",
       "      <td>9522.929688</td>\n",
       "      <td>8775.589844</td>\n",
       "      <td>9330.549805</td>\n",
       "      <td>5475579904</td>\n",
       "      <td>465.973999</td>\n",
       "      <td>472.722992</td>\n",
       "      <td>451.605988</td>\n",
       "      <td>471.329987</td>\n",
       "      <td>1197779968</td>\n",
       "      <td>0.030437</td>\n",
       "      <td>0.039855</td>\n",
       "      <td>0.030118</td>\n",
       "      <td>0.036332</td>\n",
       "      <td>30527100</td>\n",
       "    </tr>\n",
       "    <tr>\n",
       "      <th>2017-11-27</th>\n",
       "      <td>9352.719727</td>\n",
       "      <td>9818.349609</td>\n",
       "      <td>9352.719727</td>\n",
       "      <td>9818.349609</td>\n",
       "      <td>5653320192</td>\n",
       "      <td>471.531006</td>\n",
       "      <td>493.404999</td>\n",
       "      <td>468.484985</td>\n",
       "      <td>480.355011</td>\n",
       "      <td>1396480000</td>\n",
       "      <td>0.036619</td>\n",
       "      <td>0.057127</td>\n",
       "      <td>0.036619</td>\n",
       "      <td>0.050593</td>\n",
       "      <td>77777296</td>\n",
       "    </tr>\n",
       "  </tbody>\n",
       "</table>\n",
       "</div>"
      ],
      "text/plain": [
       "Criptomoneda          BTC                                                     \\\n",
       "Valor                Open         High          Low        Close      Volume   \n",
       "Date                                                                           \n",
       "2017-11-23    8232.379883  8267.400391  8038.770020  8038.770020  4225179904   \n",
       "2017-11-24    8074.020020  8374.160156  7940.930176  8253.690430  5058610176   \n",
       "2017-11-25    8241.709961  8790.919922  8191.149902  8790.919922  4342060032   \n",
       "2017-11-26    8789.040039  9522.929688  8775.589844  9330.549805  5475579904   \n",
       "2017-11-27    9352.719727  9818.349609  9352.719727  9818.349609  5653320192   \n",
       "\n",
       "Criptomoneda         ETH                                                  \\\n",
       "Valor               Open        High         Low       Close      Volume   \n",
       "Date                                                                       \n",
       "2017-11-23    381.438995  425.548004  376.088013  410.165985  1845680000   \n",
       "2017-11-24    412.501007  480.972992  402.757996  474.911011  2292829952   \n",
       "2017-11-25    475.675995  485.191986  461.053009  466.276001  1422080000   \n",
       "2017-11-26    465.973999  472.722992  451.605988  471.329987  1197779968   \n",
       "2017-11-27    471.531006  493.404999  468.484985  480.355011  1396480000   \n",
       "\n",
       "Criptomoneda       ADA                                          \n",
       "Valor             Open      High       Low     Close    Volume  \n",
       "Date                                                            \n",
       "2017-11-23    0.028540  0.028678  0.027444  0.027444   5132300  \n",
       "2017-11-24    0.027406  0.028597  0.026963  0.028382   5502350  \n",
       "2017-11-25    0.028324  0.030447  0.027747  0.030447   6156460  \n",
       "2017-11-26    0.030437  0.039855  0.030118  0.036332  30527100  \n",
       "2017-11-27    0.036619  0.057127  0.036619  0.050593  77777296  "
      ]
     },
     "execution_count": 10,
     "metadata": {},
     "output_type": "execute_result"
    }
   ],
   "source": [
    "df= pd.concat([BTC,ETH,ADA],axis=1,keys=['BTC','ETH','ADA'])\n",
    "df.columns.names = ['Criptomoneda','Valor']\n",
    "df.head()"
   ]
  },
  {
   "cell_type": "markdown",
   "id": "85881acd",
   "metadata": {},
   "source": [
    "## EDA\n",
    "Vamos a explorar nuestro data, notemos que al concatenar los DataFrames, obtenemos un índice de dos niveles ('Criptomoneda' y 'Valor'). \n"
   ]
  },
  {
   "cell_type": "code",
   "execution_count": 11,
   "id": "40677846",
   "metadata": {},
   "outputs": [
    {
     "data": {
      "text/plain": [
       "Date\n",
       "2017-11-23     8232.379883\n",
       "2017-11-24     8074.020020\n",
       "2017-11-25     8241.709961\n",
       "2017-11-26     8789.040039\n",
       "2017-11-27     9352.719727\n",
       "                  ...     \n",
       "2021-11-19    56896.128906\n",
       "2021-11-20    58115.082031\n",
       "2021-11-21    59730.507812\n",
       "2021-11-22    58706.847656\n",
       "2021-11-23    56309.652344\n",
       "Name: Open, Length: 1458, dtype: float64"
      ]
     },
     "execution_count": 11,
     "metadata": {},
     "output_type": "execute_result"
    }
   ],
   "source": [
    "# Ejemplo de cómo utilizar el índice doble: La columna 'Open' asociada a 'BTC' es llamada mediante:\n",
    "df['BTC']['Open']"
   ]
  },
  {
   "cell_type": "markdown",
   "id": "21f2438d",
   "metadata": {},
   "source": [
    "El método .xs() nos permite explorar DataFrames con multi-índices. Para mayor referencia https://pandas.pydata.org/pandas-docs/stable/reference/api/pandas.DataFrame.xs.html"
   ]
  },
  {
   "cell_type": "markdown",
   "id": "97e546e3",
   "metadata": {},
   "source": [
    "Revisemos cuál es el mayor valor de cierre para cada criptomoneda durante el tiempo considerado."
   ]
  },
  {
   "cell_type": "code",
   "execution_count": 12,
   "id": "8fd05e28",
   "metadata": {},
   "outputs": [
    {
     "data": {
      "text/plain": [
       "Criptomoneda\n",
       "BTC    67566.828125\n",
       "ETH     4812.087402\n",
       "ADA        2.968239\n",
       "dtype: float64"
      ]
     },
     "execution_count": 12,
     "metadata": {},
     "output_type": "execute_result"
    }
   ],
   "source": [
    "df.xs(key='Close',axis=1,level='Valor').max()"
   ]
  },
  {
   "cell_type": "markdown",
   "id": "ba53aae1",
   "metadata": {},
   "source": [
    "Ahora obtendremos la fecha respectiva en cada caso. Para ello creamos una función llamada \"maxmininfo\" con la información respectiva. También incluiremos la información para los valores mínimos."
   ]
  },
  {
   "cell_type": "code",
   "execution_count": 13,
   "id": "1e25e57b",
   "metadata": {},
   "outputs": [],
   "source": [
    "def maxmininfo(df,ticker):\n",
    "    dff=pd.DataFrame(index=[ticker])\n",
    "    dff['Fecha Min']=[df[ticker]['Close'].idxmin()]\n",
    "    dff['Valor Min']=[df[ticker]['Close'].min()]\n",
    "    dff['Fecha Max']=[df[ticker]['Close'].idxmax()]\n",
    "    dff['Valor Max']=[df[ticker]['Close'].max()]\n",
    "    return dff"
   ]
  },
  {
   "cell_type": "code",
   "execution_count": 14,
   "id": "9c411128",
   "metadata": {},
   "outputs": [
    {
     "data": {
      "text/html": [
       "<div>\n",
       "<style scoped>\n",
       "    .dataframe tbody tr th:only-of-type {\n",
       "        vertical-align: middle;\n",
       "    }\n",
       "\n",
       "    .dataframe tbody tr th {\n",
       "        vertical-align: top;\n",
       "    }\n",
       "\n",
       "    .dataframe thead th {\n",
       "        text-align: right;\n",
       "    }\n",
       "</style>\n",
       "<table border=\"1\" class=\"dataframe\">\n",
       "  <thead>\n",
       "    <tr style=\"text-align: right;\">\n",
       "      <th></th>\n",
       "      <th>Fecha Min</th>\n",
       "      <th>Valor Min</th>\n",
       "      <th>Fecha Max</th>\n",
       "      <th>Valor Max</th>\n",
       "    </tr>\n",
       "  </thead>\n",
       "  <tbody>\n",
       "    <tr>\n",
       "      <th>BTC</th>\n",
       "      <td>2018-12-15</td>\n",
       "      <td>3236.761719</td>\n",
       "      <td>2021-11-08</td>\n",
       "      <td>67566.828125</td>\n",
       "    </tr>\n",
       "  </tbody>\n",
       "</table>\n",
       "</div>"
      ],
      "text/plain": [
       "     Fecha Min    Valor Min  Fecha Max     Valor Max\n",
       "BTC 2018-12-15  3236.761719 2021-11-08  67566.828125"
      ]
     },
     "execution_count": 14,
     "metadata": {},
     "output_type": "execute_result"
    }
   ],
   "source": [
    "# Al evaluar nuestra función en BTC, se obtiene lo siguiente:\n",
    "maxmininfo(df,'BTC')"
   ]
  },
  {
   "cell_type": "code",
   "execution_count": 15,
   "id": "47201a14",
   "metadata": {},
   "outputs": [
    {
     "data": {
      "text/html": [
       "<div>\n",
       "<style scoped>\n",
       "    .dataframe tbody tr th:only-of-type {\n",
       "        vertical-align: middle;\n",
       "    }\n",
       "\n",
       "    .dataframe tbody tr th {\n",
       "        vertical-align: top;\n",
       "    }\n",
       "\n",
       "    .dataframe thead th {\n",
       "        text-align: right;\n",
       "    }\n",
       "</style>\n",
       "<table border=\"1\" class=\"dataframe\">\n",
       "  <thead>\n",
       "    <tr style=\"text-align: right;\">\n",
       "      <th></th>\n",
       "      <th>Fecha Min</th>\n",
       "      <th>Valor Min</th>\n",
       "      <th>Fecha Max</th>\n",
       "      <th>Valor Max</th>\n",
       "    </tr>\n",
       "  </thead>\n",
       "  <tbody>\n",
       "    <tr>\n",
       "      <th>BTC</th>\n",
       "      <td>2018-12-15</td>\n",
       "      <td>3236.761719</td>\n",
       "      <td>2021-11-08</td>\n",
       "      <td>67566.828125</td>\n",
       "    </tr>\n",
       "    <tr>\n",
       "      <th>ETH</th>\n",
       "      <td>2018-12-14</td>\n",
       "      <td>84.308296</td>\n",
       "      <td>2021-11-08</td>\n",
       "      <td>4812.087402</td>\n",
       "    </tr>\n",
       "    <tr>\n",
       "      <th>ADA</th>\n",
       "      <td>2020-03-12</td>\n",
       "      <td>0.023961</td>\n",
       "      <td>2021-09-03</td>\n",
       "      <td>2.968239</td>\n",
       "    </tr>\n",
       "  </tbody>\n",
       "</table>\n",
       "</div>"
      ],
      "text/plain": [
       "     Fecha Min    Valor Min  Fecha Max     Valor Max\n",
       "BTC 2018-12-15  3236.761719 2021-11-08  67566.828125\n",
       "ETH 2018-12-14    84.308296 2021-11-08   4812.087402\n",
       "ADA 2020-03-12     0.023961 2021-09-03      2.968239"
      ]
     },
     "execution_count": 15,
     "metadata": {},
     "output_type": "execute_result"
    }
   ],
   "source": [
    "# Ahora concatenamos la información de cada criptomoneda para verlo en un pequeño DataFrame.\n",
    "pd.concat([maxmininfo(df,'BTC'),maxmininfo(df,'ETH'),maxmininfo(df,'ADA')])"
   ]
  },
  {
   "cell_type": "markdown",
   "id": "2f3bf0c4",
   "metadata": {},
   "source": [
    "## Primera Observación:\n",
    "\n",
    "Notemos que las fechas para los **valores mínimos y máximos en Bitcoin y Ether son prácticamente iguales**. En base a esto, es natural preguntarse si existe alguna relación entre los cambios de valores de las criptomonedas. Esto será lo próximo que haremos.\n",
    "\n",
    "Esto lo haremos de distintas maneras, empecemos con una comparación a nivel de gráficos."
   ]
  },
  {
   "cell_type": "markdown",
   "id": "ce153601",
   "metadata": {},
   "source": [
    "### Comparación mediante los gráficos\n",
    "\n",
    "Para graficar los valores de nuestros DataFrames, empezamos por importar algunas librerías."
   ]
  },
  {
   "cell_type": "code",
   "execution_count": 16,
   "id": "9da0570d",
   "metadata": {},
   "outputs": [
    {
     "data": {
      "text/html": [
       "        <script type=\"text/javascript\">\n",
       "        window.PlotlyConfig = {MathJaxConfig: 'local'};\n",
       "        if (window.MathJax) {MathJax.Hub.Config({SVG: {font: \"STIX-Web\"}});}\n",
       "        if (typeof require !== 'undefined') {\n",
       "        require.undef(\"plotly\");\n",
       "        requirejs.config({\n",
       "            paths: {\n",
       "                'plotly': ['https://cdn.plot.ly/plotly-2.4.2.min']\n",
       "            }\n",
       "        });\n",
       "        require(['plotly'], function(Plotly) {\n",
       "            window._Plotly = Plotly;\n",
       "        });\n",
       "        }\n",
       "        </script>\n",
       "        "
      ]
     },
     "metadata": {},
     "output_type": "display_data"
    }
   ],
   "source": [
    "import matplotlib.pyplot as plt\n",
    "import seaborn as sns\n",
    "sns.set_style('whitegrid')\n",
    "%matplotlib inline\n",
    "\n",
    "\n",
    "# Optional Plotly Method Imports\n",
    "import plotly\n",
    "import cufflinks as cf\n",
    "cf.go_offline()"
   ]
  },
  {
   "cell_type": "markdown",
   "id": "427cc94c",
   "metadata": {},
   "source": [
    "Ya que Bitcoin es muy grande en comparación con las mismas criptomonedas, no vale la pena graficar las en un mismo plot. Así que haremos cada gráfico por separado para hacernos una idea de cómo varían."
   ]
  },
  {
   "cell_type": "code",
   "execution_count": 17,
   "id": "a85626c6",
   "metadata": {
    "scrolled": false
   },
   "outputs": [
    {
     "data": {
      "text/plain": [
       "<matplotlib.legend.Legend at 0x20a32ad5580>"
      ]
     },
     "execution_count": 17,
     "metadata": {},
     "output_type": "execute_result"
    },
    {
     "data": {
      "image/png": "[encoded data removed]",
      "text/plain": [
       "<Figure size 864x288 with 3 Axes>"
      ]
     },
     "metadata": {
      "needs_background": "light"
     },
     "output_type": "display_data"
    }
   ],
   "source": [
    "plt.subplot(1,3,1)\n",
    "df['BTC']['Close'].plot(figsize=(12,4),label='BTC',color='blue')\n",
    "plt.legend()\n",
    "\n",
    "\n",
    "plt.subplot(1,3,2)\n",
    "df['ETH']['Close'].plot(figsize=(12,4),label='ETH',color='red')\n",
    "plt.legend()\n",
    "\n",
    "plt.subplot(1,3,3)\n",
    "\n",
    "df['ADA']['Close'].plot(figsize=(12,4),label='ADA',color='green')\n",
    "plt.legend()"
   ]
  },
  {
   "cell_type": "markdown",
   "id": "a4bd58f6",
   "metadata": {},
   "source": [
    "Podemos ver que la forma de los gráficos es bastante similar, esto nos da un indicio de una correlación. Así que ahora, veremos la correlación de cada una de estas.\n",
    "\n",
    "### Correlación entre las variables\n",
    "\n",
    "Vamos a ver la correlación existente entre cada una."
   ]
  },
  {
   "cell_type": "code",
   "execution_count": 18,
   "id": "9221d9c7",
   "metadata": {
    "scrolled": true
   },
   "outputs": [
    {
     "name": "stdout",
     "output_type": "stream",
     "text": [
      "La correlación entre BTC y ETH es: 0.9191102688725825\n",
      "La correlación entre BTC y ADA es: 0.8803488484753563\n",
      "La correlación entre ADA y ETH es: 0.9621883333256922\n"
     ]
    }
   ],
   "source": [
    "print(\"La correlación entre BTC y ETH es: \"+str(df['BTC']['Close'].corr(df['ETH']['Close'])))\n",
    "print(\"La correlación entre BTC y ADA es: \"+str(df['BTC']['Close'].corr(df['ADA']['Close'])))\n",
    "print(\"La correlación entre ADA y ETH es: \"+str(df['ADA']['Close'].corr(df['ETH']['Close'])))"
   ]
  },
  {
   "cell_type": "markdown",
   "id": "fbaa0e9d",
   "metadata": {},
   "source": [
    "## Observación:\n",
    "\n",
    "Recordemos que nuestros datos, segmentan los valores de cada criptomoneda, por intervalos de un día. ¿Qué pasaría si consideramos periodos de 2 días o 1 semana? Es posible que esto varíe la correlación existente? Esta pregunta nace de la afirmación que dice que las criptomonedas siguen la tendencia del valor de Bitcoin, pero siempre con un pequeño retraso de algunos días. \n",
    "\n",
    "Es por esto, que vamos a considerar la misma pregunta pero segmentando la información en distintos intervalos de tiempo. Para hacerlo, definimos una función que nos facilite este cálculo:"
   ]
  },
  {
   "cell_type": "code",
   "execution_count": null,
   "id": "4553fe10",
   "metadata": {},
   "outputs": [],
   "source": [
    "\"\"\"\n",
    "Esta función, calcula una lista de correlaciones asociadas a dos criptomonedas en cierta cantidad de días.\n",
    "Por ejemplo:\n",
    "\n",
    "    corrwhithindays('BTC','ETH',3)\n",
    "    \n",
    "Calcula las correlaciones para los valores de Close de BTC y ETH segmentados en intervalos de 1 día y 2días.\n",
    "\n",
    "def corrwhithindays(crypto1,crypto2,maxdays):\n",
    "    l=[]\n",
    "    for t in [ str(x)+'D' for x in range(1,maxdays) ]:\n",
    "        x=df[crypto1]['Close'].resample(t).mean()\n",
    "        y=df[crypto2]['Close'].resample(t).mean()\n",
    "        l.append(x.corr(y))\n",
    "    return l"
   ]
  },
  {
   "cell_type": "code",
   "execution_count": 20,
   "id": "85022a89",
   "metadata": {},
   "outputs": [],
   "source": [
    "def corrwhithindays(crypto1,crypto2,maxdays):\n",
    "    l=[]\n",
    "    for t in [ str(x)+'D' for x in range(1,maxdays) ]:\n",
    "        x=df[crypto1]['Close'].resample(t).mean()\n",
    "        y=df[crypto2]['Close'].resample(t).mean()\n",
    "        l.append(x.corr(y))\n",
    "    return l"
   ]
  },
  {
   "cell_type": "markdown",
   "id": "2dbb6c55",
   "metadata": {},
   "source": [
    "Para organizar nuestra información, definimos un DataFrame que nos permita visualizar dichas correlaciones para los distintos intervalos de tiempo considerados."
   ]
  },
  {
   "cell_type": "code",
   "execution_count": 23,
   "id": "7f1aa1d1",
   "metadata": {},
   "outputs": [
    {
     "data": {
      "text/html": [
       "<div>\n",
       "<style scoped>\n",
       "    .dataframe tbody tr th:only-of-type {\n",
       "        vertical-align: middle;\n",
       "    }\n",
       "\n",
       "    .dataframe tbody tr th {\n",
       "        vertical-align: top;\n",
       "    }\n",
       "\n",
       "    .dataframe thead th {\n",
       "        text-align: right;\n",
       "    }\n",
       "</style>\n",
       "<table border=\"1\" class=\"dataframe\">\n",
       "  <thead>\n",
       "    <tr style=\"text-align: right;\">\n",
       "      <th></th>\n",
       "      <th>BTC-ETH</th>\n",
       "      <th>BTC-ADA</th>\n",
       "      <th>ADA-ETH</th>\n",
       "    </tr>\n",
       "    <tr>\n",
       "      <th>Número de Días</th>\n",
       "      <th></th>\n",
       "      <th></th>\n",
       "      <th></th>\n",
       "    </tr>\n",
       "  </thead>\n",
       "  <tbody>\n",
       "    <tr>\n",
       "      <th>1</th>\n",
       "      <td>0.919110</td>\n",
       "      <td>0.880349</td>\n",
       "      <td>0.962188</td>\n",
       "    </tr>\n",
       "    <tr>\n",
       "      <th>2</th>\n",
       "      <td>0.919389</td>\n",
       "      <td>0.880896</td>\n",
       "      <td>0.962771</td>\n",
       "    </tr>\n",
       "    <tr>\n",
       "      <th>3</th>\n",
       "      <td>0.919883</td>\n",
       "      <td>0.881782</td>\n",
       "      <td>0.962310</td>\n",
       "    </tr>\n",
       "    <tr>\n",
       "      <th>4</th>\n",
       "      <td>0.920168</td>\n",
       "      <td>0.882115</td>\n",
       "      <td>0.962947</td>\n",
       "    </tr>\n",
       "    <tr>\n",
       "      <th>5</th>\n",
       "      <td>0.920536</td>\n",
       "      <td>0.882924</td>\n",
       "      <td>0.963007</td>\n",
       "    </tr>\n",
       "    <tr>\n",
       "      <th>6</th>\n",
       "      <td>0.920673</td>\n",
       "      <td>0.882886</td>\n",
       "      <td>0.963743</td>\n",
       "    </tr>\n",
       "    <tr>\n",
       "      <th>7</th>\n",
       "      <td>0.920511</td>\n",
       "      <td>0.882424</td>\n",
       "      <td>0.963927</td>\n",
       "    </tr>\n",
       "    <tr>\n",
       "      <th>8</th>\n",
       "      <td>0.920780</td>\n",
       "      <td>0.883881</td>\n",
       "      <td>0.964451</td>\n",
       "    </tr>\n",
       "    <tr>\n",
       "      <th>9</th>\n",
       "      <td>0.921714</td>\n",
       "      <td>0.884551</td>\n",
       "      <td>0.963410</td>\n",
       "    </tr>\n",
       "    <tr>\n",
       "      <th>10</th>\n",
       "      <td>0.922629</td>\n",
       "      <td>0.886176</td>\n",
       "      <td>0.963505</td>\n",
       "    </tr>\n",
       "  </tbody>\n",
       "</table>\n",
       "</div>"
      ],
      "text/plain": [
       "                 BTC-ETH   BTC-ADA   ADA-ETH\n",
       "Número de Días                              \n",
       "1               0.919110  0.880349  0.962188\n",
       "2               0.919389  0.880896  0.962771\n",
       "3               0.919883  0.881782  0.962310\n",
       "4               0.920168  0.882115  0.962947\n",
       "5               0.920536  0.882924  0.963007\n",
       "6               0.920673  0.882886  0.963743\n",
       "7               0.920511  0.882424  0.963927\n",
       "8               0.920780  0.883881  0.964451\n",
       "9               0.921714  0.884551  0.963410\n",
       "10              0.922629  0.886176  0.963505"
      ]
     },
     "execution_count": 23,
     "metadata": {},
     "output_type": "execute_result"
    }
   ],
   "source": [
    "dfcorrdays=pd.DataFrame()\n",
    "\n",
    "#Vamos a considerar segmentar la información hasta un máximo de 10 días.\n",
    "maxdays=11\n",
    "dfcorrdays['Número de Días']=list(range(1,maxdays))\n",
    "dfcorrdays['BTC-ETH']=corrwhithindays('BTC','ETH',maxdays)\n",
    "dfcorrdays['BTC-ADA']=corrwhithindays('BTC','ADA',maxdays)\n",
    "dfcorrdays['ADA-ETH']=corrwhithindays('ADA','ETH',maxdays)\n",
    "\n",
    "dfcorrdays.set_index('Número de Días',inplace=True)\n",
    "\n",
    "dfcorrdays"
   ]
  },
  {
   "cell_type": "markdown",
   "id": "2907a1f6",
   "metadata": {},
   "source": [
    "Notemos que en cada caso hubo un aumento en la correlación pero muy pequeño. Asi que seguiremos segmentando la información en intervalos de 1 día."
   ]
  },
  {
   "cell_type": "markdown",
   "id": "3e41b229",
   "metadata": {},
   "source": [
    "## DataFrame returns\n",
    "Recordemos que si se tiene un dataframe con una columna, en el cual su fila i-ésima es denotada por \\\\( f_i \\\\). Entonces returns se define como una columna, donde su i-ésima es denotada por \\\\( r_i \\\\). Y está definida mediante la siguiente regla:\n",
    "\\\\[ r_{i} = \\frac{f_i-f_{i-1}}{f_{i-1}} \\\\] \n",
    "\n",
    "Returns representa la variación porcentual con respecto a la fila anterior. Calcularemos Returns para el Close de cada criptomoneda."
   ]
  },
  {
   "cell_type": "code",
   "execution_count": 24,
   "id": "7d324556",
   "metadata": {},
   "outputs": [],
   "source": [
    "# Empezamos por definir returns como un DataFrame vacío al cual vamos a rellenar.\n",
    "returns = pd.DataFrame()"
   ]
  },
  {
   "cell_type": "code",
   "execution_count": 25,
   "id": "e1a3f83e",
   "metadata": {},
   "outputs": [],
   "source": [
    "tickers=['BTC','ETH','ADA']"
   ]
  },
  {
   "cell_type": "code",
   "execution_count": 26,
   "id": "cf097542",
   "metadata": {
    "scrolled": true
   },
   "outputs": [
    {
     "data": {
      "text/html": [
       "<div>\n",
       "<style scoped>\n",
       "    .dataframe tbody tr th:only-of-type {\n",
       "        vertical-align: middle;\n",
       "    }\n",
       "\n",
       "    .dataframe tbody tr th {\n",
       "        vertical-align: top;\n",
       "    }\n",
       "\n",
       "    .dataframe thead th {\n",
       "        text-align: right;\n",
       "    }\n",
       "</style>\n",
       "<table border=\"1\" class=\"dataframe\">\n",
       "  <thead>\n",
       "    <tr style=\"text-align: right;\">\n",
       "      <th></th>\n",
       "      <th>BTC Return</th>\n",
       "      <th>ETH Return</th>\n",
       "      <th>ADA Return</th>\n",
       "    </tr>\n",
       "    <tr>\n",
       "      <th>Date</th>\n",
       "      <th></th>\n",
       "      <th></th>\n",
       "      <th></th>\n",
       "    </tr>\n",
       "  </thead>\n",
       "  <tbody>\n",
       "    <tr>\n",
       "      <th>2017-11-23</th>\n",
       "      <td>NaN</td>\n",
       "      <td>NaN</td>\n",
       "      <td>NaN</td>\n",
       "    </tr>\n",
       "    <tr>\n",
       "      <th>2017-11-24</th>\n",
       "      <td>0.026735</td>\n",
       "      <td>0.157851</td>\n",
       "      <td>0.034179</td>\n",
       "    </tr>\n",
       "    <tr>\n",
       "      <th>2017-11-25</th>\n",
       "      <td>0.065090</td>\n",
       "      <td>-0.018182</td>\n",
       "      <td>0.072757</td>\n",
       "    </tr>\n",
       "    <tr>\n",
       "      <th>2017-11-26</th>\n",
       "      <td>0.061385</td>\n",
       "      <td>0.010839</td>\n",
       "      <td>0.193287</td>\n",
       "    </tr>\n",
       "    <tr>\n",
       "      <th>2017-11-27</th>\n",
       "      <td>0.052280</td>\n",
       "      <td>0.019148</td>\n",
       "      <td>0.392519</td>\n",
       "    </tr>\n",
       "  </tbody>\n",
       "</table>\n",
       "</div>"
      ],
      "text/plain": [
       "            BTC Return  ETH Return  ADA Return\n",
       "Date                                          \n",
       "2017-11-23         NaN         NaN         NaN\n",
       "2017-11-24    0.026735    0.157851    0.034179\n",
       "2017-11-25    0.065090   -0.018182    0.072757\n",
       "2017-11-26    0.061385    0.010839    0.193287\n",
       "2017-11-27    0.052280    0.019148    0.392519"
      ]
     },
     "execution_count": 26,
     "metadata": {},
     "output_type": "execute_result"
    }
   ],
   "source": [
    "for tick in tickers:\n",
    "    returns[tick+' Return'] = df[tick]['Close'].pct_change()\n",
    "returns.head()"
   ]
  },
  {
   "cell_type": "markdown",
   "id": "4ad22fed",
   "metadata": {},
   "source": [
    "Haremos el plot de las columnas Return para BTC y ETH para comparar sus variaciones porcentuales."
   ]
  },
  {
   "cell_type": "code",
   "execution_count": 28,
   "id": "c01bce45",
   "metadata": {
    "scrolled": true
   },
   "outputs": [
    {
     "data": {
      "text/plain": [
       "<matplotlib.legend.Legend at 0x20a33179130>"
      ]
     },
     "execution_count": 28,
     "metadata": {},
     "output_type": "execute_result"
    },
    {
     "data": {
      "image/png": "[encoded data removed]",
      "text/plain": [
       "<Figure size 864x288 with 1 Axes>"
      ]
     },
     "metadata": {
      "needs_background": "light"
     },
     "output_type": "display_data"
    }
   ],
   "source": [
    "returns['BTC Return'].plot(figsize=(12,4),label='BTC',color='green',alpha=0.5)\n",
    "returns['ETH Return'].plot(figsize=(12,4),label='ETH',color='red',alpha=0.5)\n",
    "plt.legend()"
   ]
  },
  {
   "cell_type": "markdown",
   "id": "af49ae72",
   "metadata": {},
   "source": [
    "Como es de esperar (ya que vimos sus comportamientos a nivel de gráfico y también sus correlaciones) vemos que sus columnas Return, nos generan gráficos similares para ambos casos."
   ]
  },
  {
   "cell_type": "markdown",
   "id": "5ad093ee",
   "metadata": {},
   "source": [
    "Veamos en qué día cada criptomoneda tuvo su peor y mejor día según su returns."
   ]
  },
  {
   "cell_type": "code",
   "execution_count": 38,
   "id": "6709b26e",
   "metadata": {},
   "outputs": [
    {
     "data": {
      "text/plain": [
       "BTC Return   2020-03-12\n",
       "ETH Return   2020-03-12\n",
       "ADA Return   2020-03-12\n",
       "dtype: datetime64[ns]"
      ]
     },
     "execution_count": 38,
     "metadata": {},
     "output_type": "execute_result"
    }
   ],
   "source": [
    "returns.idxmin()"
   ]
  },
  {
   "cell_type": "code",
   "execution_count": 39,
   "id": "511ef99f",
   "metadata": {
    "scrolled": false
   },
   "outputs": [
    {
     "data": {
      "text/plain": [
       "BTC Return   2017-12-07\n",
       "ETH Return   2017-12-12\n",
       "ADA Return   2017-11-28\n",
       "dtype: datetime64[ns]"
      ]
     },
     "execution_count": 39,
     "metadata": {},
     "output_type": "execute_result"
    }
   ],
   "source": [
    "returns.idxmax()"
   ]
  },
  {
   "cell_type": "markdown",
   "id": "6e75d8ca",
   "metadata": {},
   "source": [
    "Notemos que las tres criptomonedas tuvieron su peor día variacional el día 12 de Marzo del 2020 y el mejor día para cada una es bastante cercano (con una diferencia menor que 2 semanas para cada uno de ellos)."
   ]
  },
  {
   "cell_type": "markdown",
   "id": "160733d1",
   "metadata": {},
   "source": [
    "Revisemos la desviación estándar del dataframe returns, para tener una idea de la volatilidad de estas."
   ]
  },
  {
   "cell_type": "code",
   "execution_count": 41,
   "id": "232f2be6",
   "metadata": {},
   "outputs": [
    {
     "data": {
      "text/plain": [
       "BTC Return    0.041399\n",
       "ETH Return    0.052311\n",
       "ADA Return    0.080434\n",
       "dtype: float64"
      ]
     },
     "execution_count": 41,
     "metadata": {},
     "output_type": "execute_result"
    }
   ],
   "source": [
    "returns.std()"
   ]
  },
  {
   "cell_type": "code",
   "execution_count": 34,
   "id": "447f7f2e",
   "metadata": {
    "scrolled": true
   },
   "outputs": [
    {
     "name": "stderr",
     "output_type": "stream",
     "text": [
      "C:\\ProgramData\\Anaconda3\\lib\\site-packages\\seaborn\\distributions.py:2557: FutureWarning:\n",
      "\n",
      "`distplot` is a deprecated function and will be removed in a future version. Please adapt your code to use either `displot` (a figure-level function with similar flexibility) or `histplot` (an axes-level function for histograms).\n",
      "\n"
     ]
    },
    {
     "data": {
      "text/plain": [
       "<AxesSubplot:xlabel='BTC Return', ylabel='Density'>"
      ]
     },
     "execution_count": 34,
     "metadata": {},
     "output_type": "execute_result"
    },
    {
     "data": {
      "image/png": "[encoded data removed]",
      "text/plain": [
       "<Figure size 432x288 with 1 Axes>"
      ]
     },
     "metadata": {
      "needs_background": "light"
     },
     "output_type": "display_data"
    }
   ],
   "source": [
    "sns.distplot(returns['BTC Return'],bins=50)"
   ]
  },
  {
   "cell_type": "code",
   "execution_count": 35,
   "id": "cf58be17",
   "metadata": {
    "scrolled": false
   },
   "outputs": [
    {
     "name": "stderr",
     "output_type": "stream",
     "text": [
      "C:\\ProgramData\\Anaconda3\\lib\\site-packages\\seaborn\\distributions.py:2557: FutureWarning:\n",
      "\n",
      "`distplot` is a deprecated function and will be removed in a future version. Please adapt your code to use either `displot` (a figure-level function with similar flexibility) or `histplot` (an axes-level function for histograms).\n",
      "\n"
     ]
    },
    {
     "data": {
      "text/plain": [
       "<AxesSubplot:xlabel='ETH Return', ylabel='Density'>"
      ]
     },
     "execution_count": 35,
     "metadata": {},
     "output_type": "execute_result"
    },
    {
     "data": {
      "image/png": "[encoded data removed]",
      "text/plain": [
       "<Figure size 432x288 with 1 Axes>"
      ]
     },
     "metadata": {
      "needs_background": "light"
     },
     "output_type": "display_data"
    }
   ],
   "source": [
    "sns.distplot(returns['ETH Return'],bins=50)"
   ]
  },
  {
   "cell_type": "code",
   "execution_count": 36,
   "id": "52b6fcf3",
   "metadata": {},
   "outputs": [
    {
     "name": "stderr",
     "output_type": "stream",
     "text": [
      "C:\\ProgramData\\Anaconda3\\lib\\site-packages\\seaborn\\distributions.py:2557: FutureWarning:\n",
      "\n",
      "`distplot` is a deprecated function and will be removed in a future version. Please adapt your code to use either `displot` (a figure-level function with similar flexibility) or `histplot` (an axes-level function for histograms).\n",
      "\n"
     ]
    },
    {
     "data": {
      "text/plain": [
       "<AxesSubplot:xlabel='ADA Return', ylabel='Density'>"
      ]
     },
     "execution_count": 36,
     "metadata": {},
     "output_type": "execute_result"
    },
    {
     "data": {
      "image/png": "[encoded data removed]",
      "text/plain": [
       "<Figure size 432x288 with 1 Axes>"
      ]
     },
     "metadata": {
      "needs_background": "light"
     },
     "output_type": "display_data"
    }
   ],
   "source": [
    "sns.distplot(returns['ADA Return'],bins=50)"
   ]
  },
  {
   "cell_type": "markdown",
   "id": "2064c845",
   "metadata": {},
   "source": [
    "### Promedio Móvil\n",
    "\n",
    "El promedio móvil de una columna, es el promedio de los últimos N días de dicha columna (donde N es un parámetro que nosotros entregamos). Para obtenerlo utilizamos el método .rolling(window=N) y luego lo componemos con el método .mean()."
   ]
  },
  {
   "cell_type": "code",
   "execution_count": null,
   "id": "52c00231",
   "metadata": {},
   "outputs": [],
   "source": [
    "plt.figure(figsize=(12,6))\n",
    "BTC['Close'].rolling(window=30).mean().plot(label='PM-30')\n",
    "BTC['Close'].plot(label='BTC')\n",
    "plt.legend()"
   ]
  },
  {
   "cell_type": "code",
   "execution_count": null,
   "id": "14b1f977",
   "metadata": {},
   "outputs": [],
   "source": []
  },
  {
   "cell_type": "code",
   "execution_count": null,
   "id": "a0aec1f0",
   "metadata": {},
   "outputs": [],
   "source": []
  },
  {
   "cell_type": "code",
   "execution_count": 40,
   "id": "463192fd",
   "metadata": {},
   "outputs": [
    {
     "data": {
      "text/plain": [
       "<seaborn.axisgrid.PairGrid at 0x20a351ab340>"
      ]
     },
     "execution_count": 40,
     "metadata": {},
     "output_type": "execute_result"
    },
    {
     "data": {
      "image/png": "[encoded data removed]",
      "text/plain": [
       "<Figure size 540x540 with 12 Axes>"
      ]
     },
     "metadata": {
      "needs_background": "light"
     },
     "output_type": "display_data"
    }
   ],
   "source": [
    "import seaborn as sns\n",
    "sns.pairplot(returns[1:])"
   ]
  }
 ],
 "metadata": {
  "kernelspec": {
   "display_name": "Python 3",
   "language": "python",
   "name": "python3"
  },
  "language_info": {
   "codemirror_mode": {
    "name": "ipython",
    "version": 3
   },
   "file_extension": ".py",
   "mimetype": "text/x-python",
   "name": "python",
   "nbconvert_exporter": "python",
   "pygments_lexer": "ipython3",
   "version": "3.8.8"
  }
 },
 "nbformat": 4,
 "nbformat_minor": 5
}
